{
 "cells": [
  {
   "cell_type": "markdown",
   "metadata": {
    "dc": {
     "key": "af3ab50ea7"
    },
    "deletable": false,
    "editable": false,
    "run_control": {
     "frozen": true
    },
    "tags": [
     "context"
    ]
   },
   "source": [
    "## 1. Introduction to Baby Names Data\n",
    "<blockquote>\n",
    "  <p>What’s in a name? That which we call a rose, By any other name would smell as sweet.</p>\n",
    "</blockquote>\n",
    "<p>In this project, we will explore a rich dataset of first names of babies born in the US, that spans a period of more than 100 years! This suprisingly simple dataset can help us uncover so many interesting stories, and that is exactly what we are going to be doing. </p>\n",
    "<p>Let us start by reading the data.</p>"
   ]
  },
  {
   "cell_type": "code",
   "execution_count": 45,
   "metadata": {
    "dc": {
     "key": "af3ab50ea7"
    },
    "tags": [
     "sample_code"
    ]
   },
   "outputs": [
    {
     "data": {
      "text/html": [
       "<div>\n",
       "<table border=\"1\" class=\"dataframe\">\n",
       "  <thead>\n",
       "    <tr style=\"text-align: right;\">\n",
       "      <th></th>\n",
       "      <th>name</th>\n",
       "      <th>sex</th>\n",
       "      <th>births</th>\n",
       "      <th>year</th>\n",
       "    </tr>\n",
       "  </thead>\n",
       "  <tbody>\n",
       "    <tr>\n",
       "      <th>0</th>\n",
       "      <td>Mary</td>\n",
       "      <td>F</td>\n",
       "      <td>7065</td>\n",
       "      <td>1880</td>\n",
       "    </tr>\n",
       "    <tr>\n",
       "      <th>1</th>\n",
       "      <td>Anna</td>\n",
       "      <td>F</td>\n",
       "      <td>2604</td>\n",
       "      <td>1880</td>\n",
       "    </tr>\n",
       "    <tr>\n",
       "      <th>2</th>\n",
       "      <td>Emma</td>\n",
       "      <td>F</td>\n",
       "      <td>2003</td>\n",
       "      <td>1880</td>\n",
       "    </tr>\n",
       "    <tr>\n",
       "      <th>3</th>\n",
       "      <td>Elizabeth</td>\n",
       "      <td>F</td>\n",
       "      <td>1939</td>\n",
       "      <td>1880</td>\n",
       "    </tr>\n",
       "    <tr>\n",
       "      <th>4</th>\n",
       "      <td>Minnie</td>\n",
       "      <td>F</td>\n",
       "      <td>1746</td>\n",
       "      <td>1880</td>\n",
       "    </tr>\n",
       "    <tr>\n",
       "      <th>5</th>\n",
       "      <td>Margaret</td>\n",
       "      <td>F</td>\n",
       "      <td>1578</td>\n",
       "      <td>1880</td>\n",
       "    </tr>\n",
       "    <tr>\n",
       "      <th>6</th>\n",
       "      <td>Ida</td>\n",
       "      <td>F</td>\n",
       "      <td>1472</td>\n",
       "      <td>1880</td>\n",
       "    </tr>\n",
       "    <tr>\n",
       "      <th>7</th>\n",
       "      <td>Alice</td>\n",
       "      <td>F</td>\n",
       "      <td>1414</td>\n",
       "      <td>1880</td>\n",
       "    </tr>\n",
       "    <tr>\n",
       "      <th>8</th>\n",
       "      <td>Bertha</td>\n",
       "      <td>F</td>\n",
       "      <td>1320</td>\n",
       "      <td>1880</td>\n",
       "    </tr>\n",
       "    <tr>\n",
       "      <th>9</th>\n",
       "      <td>Sarah</td>\n",
       "      <td>F</td>\n",
       "      <td>1288</td>\n",
       "      <td>1880</td>\n",
       "    </tr>\n",
       "    <tr>\n",
       "      <th>10</th>\n",
       "      <td>Annie</td>\n",
       "      <td>F</td>\n",
       "      <td>1258</td>\n",
       "      <td>1880</td>\n",
       "    </tr>\n",
       "    <tr>\n",
       "      <th>11</th>\n",
       "      <td>Clara</td>\n",
       "      <td>F</td>\n",
       "      <td>1226</td>\n",
       "      <td>1880</td>\n",
       "    </tr>\n",
       "    <tr>\n",
       "      <th>12</th>\n",
       "      <td>Ella</td>\n",
       "      <td>F</td>\n",
       "      <td>1156</td>\n",
       "      <td>1880</td>\n",
       "    </tr>\n",
       "    <tr>\n",
       "      <th>13</th>\n",
       "      <td>Florence</td>\n",
       "      <td>F</td>\n",
       "      <td>1063</td>\n",
       "      <td>1880</td>\n",
       "    </tr>\n",
       "    <tr>\n",
       "      <th>14</th>\n",
       "      <td>Cora</td>\n",
       "      <td>F</td>\n",
       "      <td>1045</td>\n",
       "      <td>1880</td>\n",
       "    </tr>\n",
       "    <tr>\n",
       "      <th>15</th>\n",
       "      <td>Martha</td>\n",
       "      <td>F</td>\n",
       "      <td>1040</td>\n",
       "      <td>1880</td>\n",
       "    </tr>\n",
       "    <tr>\n",
       "      <th>16</th>\n",
       "      <td>Laura</td>\n",
       "      <td>F</td>\n",
       "      <td>1012</td>\n",
       "      <td>1880</td>\n",
       "    </tr>\n",
       "    <tr>\n",
       "      <th>17</th>\n",
       "      <td>Nellie</td>\n",
       "      <td>F</td>\n",
       "      <td>995</td>\n",
       "      <td>1880</td>\n",
       "    </tr>\n",
       "    <tr>\n",
       "      <th>18</th>\n",
       "      <td>Grace</td>\n",
       "      <td>F</td>\n",
       "      <td>982</td>\n",
       "      <td>1880</td>\n",
       "    </tr>\n",
       "    <tr>\n",
       "      <th>19</th>\n",
       "      <td>Carrie</td>\n",
       "      <td>F</td>\n",
       "      <td>949</td>\n",
       "      <td>1880</td>\n",
       "    </tr>\n",
       "    <tr>\n",
       "      <th>20</th>\n",
       "      <td>Maude</td>\n",
       "      <td>F</td>\n",
       "      <td>858</td>\n",
       "      <td>1880</td>\n",
       "    </tr>\n",
       "    <tr>\n",
       "      <th>21</th>\n",
       "      <td>Mabel</td>\n",
       "      <td>F</td>\n",
       "      <td>808</td>\n",
       "      <td>1880</td>\n",
       "    </tr>\n",
       "    <tr>\n",
       "      <th>22</th>\n",
       "      <td>Bessie</td>\n",
       "      <td>F</td>\n",
       "      <td>796</td>\n",
       "      <td>1880</td>\n",
       "    </tr>\n",
       "    <tr>\n",
       "      <th>23</th>\n",
       "      <td>Jennie</td>\n",
       "      <td>F</td>\n",
       "      <td>793</td>\n",
       "      <td>1880</td>\n",
       "    </tr>\n",
       "    <tr>\n",
       "      <th>24</th>\n",
       "      <td>Gertrude</td>\n",
       "      <td>F</td>\n",
       "      <td>787</td>\n",
       "      <td>1880</td>\n",
       "    </tr>\n",
       "    <tr>\n",
       "      <th>25</th>\n",
       "      <td>Julia</td>\n",
       "      <td>F</td>\n",
       "      <td>783</td>\n",
       "      <td>1880</td>\n",
       "    </tr>\n",
       "    <tr>\n",
       "      <th>26</th>\n",
       "      <td>Hattie</td>\n",
       "      <td>F</td>\n",
       "      <td>769</td>\n",
       "      <td>1880</td>\n",
       "    </tr>\n",
       "    <tr>\n",
       "      <th>27</th>\n",
       "      <td>Edith</td>\n",
       "      <td>F</td>\n",
       "      <td>768</td>\n",
       "      <td>1880</td>\n",
       "    </tr>\n",
       "    <tr>\n",
       "      <th>28</th>\n",
       "      <td>Mattie</td>\n",
       "      <td>F</td>\n",
       "      <td>704</td>\n",
       "      <td>1880</td>\n",
       "    </tr>\n",
       "    <tr>\n",
       "      <th>29</th>\n",
       "      <td>Rose</td>\n",
       "      <td>F</td>\n",
       "      <td>700</td>\n",
       "      <td>1880</td>\n",
       "    </tr>\n",
       "    <tr>\n",
       "      <th>...</th>\n",
       "      <td>...</td>\n",
       "      <td>...</td>\n",
       "      <td>...</td>\n",
       "      <td>...</td>\n",
       "    </tr>\n",
       "    <tr>\n",
       "      <th>1891864</th>\n",
       "      <td>Zariyan</td>\n",
       "      <td>M</td>\n",
       "      <td>5</td>\n",
       "      <td>2016</td>\n",
       "    </tr>\n",
       "    <tr>\n",
       "      <th>1891865</th>\n",
       "      <td>Zarren</td>\n",
       "      <td>M</td>\n",
       "      <td>5</td>\n",
       "      <td>2016</td>\n",
       "    </tr>\n",
       "    <tr>\n",
       "      <th>1891866</th>\n",
       "      <td>Zaryn</td>\n",
       "      <td>M</td>\n",
       "      <td>5</td>\n",
       "      <td>2016</td>\n",
       "    </tr>\n",
       "    <tr>\n",
       "      <th>1891867</th>\n",
       "      <td>Zaxon</td>\n",
       "      <td>M</td>\n",
       "      <td>5</td>\n",
       "      <td>2016</td>\n",
       "    </tr>\n",
       "    <tr>\n",
       "      <th>1891868</th>\n",
       "      <td>Zaxtyn</td>\n",
       "      <td>M</td>\n",
       "      <td>5</td>\n",
       "      <td>2016</td>\n",
       "    </tr>\n",
       "    <tr>\n",
       "      <th>1891869</th>\n",
       "      <td>Zaye</td>\n",
       "      <td>M</td>\n",
       "      <td>5</td>\n",
       "      <td>2016</td>\n",
       "    </tr>\n",
       "    <tr>\n",
       "      <th>1891870</th>\n",
       "      <td>Zaymar</td>\n",
       "      <td>M</td>\n",
       "      <td>5</td>\n",
       "      <td>2016</td>\n",
       "    </tr>\n",
       "    <tr>\n",
       "      <th>1891871</th>\n",
       "      <td>Zaymir</td>\n",
       "      <td>M</td>\n",
       "      <td>5</td>\n",
       "      <td>2016</td>\n",
       "    </tr>\n",
       "    <tr>\n",
       "      <th>1891872</th>\n",
       "      <td>Zaynn</td>\n",
       "      <td>M</td>\n",
       "      <td>5</td>\n",
       "      <td>2016</td>\n",
       "    </tr>\n",
       "    <tr>\n",
       "      <th>1891873</th>\n",
       "      <td>Zayshaun</td>\n",
       "      <td>M</td>\n",
       "      <td>5</td>\n",
       "      <td>2016</td>\n",
       "    </tr>\n",
       "    <tr>\n",
       "      <th>1891874</th>\n",
       "      <td>Zedric</td>\n",
       "      <td>M</td>\n",
       "      <td>5</td>\n",
       "      <td>2016</td>\n",
       "    </tr>\n",
       "    <tr>\n",
       "      <th>1891875</th>\n",
       "      <td>Zekariah</td>\n",
       "      <td>M</td>\n",
       "      <td>5</td>\n",
       "      <td>2016</td>\n",
       "    </tr>\n",
       "    <tr>\n",
       "      <th>1891876</th>\n",
       "      <td>Zelan</td>\n",
       "      <td>M</td>\n",
       "      <td>5</td>\n",
       "      <td>2016</td>\n",
       "    </tr>\n",
       "    <tr>\n",
       "      <th>1891877</th>\n",
       "      <td>Zephen</td>\n",
       "      <td>M</td>\n",
       "      <td>5</td>\n",
       "      <td>2016</td>\n",
       "    </tr>\n",
       "    <tr>\n",
       "      <th>1891878</th>\n",
       "      <td>Zephyrus</td>\n",
       "      <td>M</td>\n",
       "      <td>5</td>\n",
       "      <td>2016</td>\n",
       "    </tr>\n",
       "    <tr>\n",
       "      <th>1891879</th>\n",
       "      <td>Zeric</td>\n",
       "      <td>M</td>\n",
       "      <td>5</td>\n",
       "      <td>2016</td>\n",
       "    </tr>\n",
       "    <tr>\n",
       "      <th>1891880</th>\n",
       "      <td>Zerin</td>\n",
       "      <td>M</td>\n",
       "      <td>5</td>\n",
       "      <td>2016</td>\n",
       "    </tr>\n",
       "    <tr>\n",
       "      <th>1891881</th>\n",
       "      <td>Zethan</td>\n",
       "      <td>M</td>\n",
       "      <td>5</td>\n",
       "      <td>2016</td>\n",
       "    </tr>\n",
       "    <tr>\n",
       "      <th>1891882</th>\n",
       "      <td>Zihao</td>\n",
       "      <td>M</td>\n",
       "      <td>5</td>\n",
       "      <td>2016</td>\n",
       "    </tr>\n",
       "    <tr>\n",
       "      <th>1891883</th>\n",
       "      <td>Zimo</td>\n",
       "      <td>M</td>\n",
       "      <td>5</td>\n",
       "      <td>2016</td>\n",
       "    </tr>\n",
       "    <tr>\n",
       "      <th>1891884</th>\n",
       "      <td>Zinn</td>\n",
       "      <td>M</td>\n",
       "      <td>5</td>\n",
       "      <td>2016</td>\n",
       "    </tr>\n",
       "    <tr>\n",
       "      <th>1891885</th>\n",
       "      <td>Zirui</td>\n",
       "      <td>M</td>\n",
       "      <td>5</td>\n",
       "      <td>2016</td>\n",
       "    </tr>\n",
       "    <tr>\n",
       "      <th>1891886</th>\n",
       "      <td>Ziya</td>\n",
       "      <td>M</td>\n",
       "      <td>5</td>\n",
       "      <td>2016</td>\n",
       "    </tr>\n",
       "    <tr>\n",
       "      <th>1891887</th>\n",
       "      <td>Ziyang</td>\n",
       "      <td>M</td>\n",
       "      <td>5</td>\n",
       "      <td>2016</td>\n",
       "    </tr>\n",
       "    <tr>\n",
       "      <th>1891888</th>\n",
       "      <td>Zoel</td>\n",
       "      <td>M</td>\n",
       "      <td>5</td>\n",
       "      <td>2016</td>\n",
       "    </tr>\n",
       "    <tr>\n",
       "      <th>1891889</th>\n",
       "      <td>Zolton</td>\n",
       "      <td>M</td>\n",
       "      <td>5</td>\n",
       "      <td>2016</td>\n",
       "    </tr>\n",
       "    <tr>\n",
       "      <th>1891890</th>\n",
       "      <td>Zurich</td>\n",
       "      <td>M</td>\n",
       "      <td>5</td>\n",
       "      <td>2016</td>\n",
       "    </tr>\n",
       "    <tr>\n",
       "      <th>1891891</th>\n",
       "      <td>Zyahir</td>\n",
       "      <td>M</td>\n",
       "      <td>5</td>\n",
       "      <td>2016</td>\n",
       "    </tr>\n",
       "    <tr>\n",
       "      <th>1891892</th>\n",
       "      <td>Zyel</td>\n",
       "      <td>M</td>\n",
       "      <td>5</td>\n",
       "      <td>2016</td>\n",
       "    </tr>\n",
       "    <tr>\n",
       "      <th>1891893</th>\n",
       "      <td>Zylyn</td>\n",
       "      <td>M</td>\n",
       "      <td>5</td>\n",
       "      <td>2016</td>\n",
       "    </tr>\n",
       "  </tbody>\n",
       "</table>\n",
       "<p>1891894 rows × 4 columns</p>\n",
       "</div>"
      ],
      "text/plain": [
       "              name sex  births  year\n",
       "0             Mary   F    7065  1880\n",
       "1             Anna   F    2604  1880\n",
       "2             Emma   F    2003  1880\n",
       "3        Elizabeth   F    1939  1880\n",
       "4           Minnie   F    1746  1880\n",
       "5         Margaret   F    1578  1880\n",
       "6              Ida   F    1472  1880\n",
       "7            Alice   F    1414  1880\n",
       "8           Bertha   F    1320  1880\n",
       "9            Sarah   F    1288  1880\n",
       "10           Annie   F    1258  1880\n",
       "11           Clara   F    1226  1880\n",
       "12            Ella   F    1156  1880\n",
       "13        Florence   F    1063  1880\n",
       "14            Cora   F    1045  1880\n",
       "15          Martha   F    1040  1880\n",
       "16           Laura   F    1012  1880\n",
       "17          Nellie   F     995  1880\n",
       "18           Grace   F     982  1880\n",
       "19          Carrie   F     949  1880\n",
       "20           Maude   F     858  1880\n",
       "21           Mabel   F     808  1880\n",
       "22          Bessie   F     796  1880\n",
       "23          Jennie   F     793  1880\n",
       "24        Gertrude   F     787  1880\n",
       "25           Julia   F     783  1880\n",
       "26          Hattie   F     769  1880\n",
       "27           Edith   F     768  1880\n",
       "28          Mattie   F     704  1880\n",
       "29            Rose   F     700  1880\n",
       "...            ...  ..     ...   ...\n",
       "1891864    Zariyan   M       5  2016\n",
       "1891865     Zarren   M       5  2016\n",
       "1891866      Zaryn   M       5  2016\n",
       "1891867      Zaxon   M       5  2016\n",
       "1891868     Zaxtyn   M       5  2016\n",
       "1891869       Zaye   M       5  2016\n",
       "1891870     Zaymar   M       5  2016\n",
       "1891871     Zaymir   M       5  2016\n",
       "1891872      Zaynn   M       5  2016\n",
       "1891873   Zayshaun   M       5  2016\n",
       "1891874     Zedric   M       5  2016\n",
       "1891875   Zekariah   M       5  2016\n",
       "1891876      Zelan   M       5  2016\n",
       "1891877     Zephen   M       5  2016\n",
       "1891878   Zephyrus   M       5  2016\n",
       "1891879      Zeric   M       5  2016\n",
       "1891880      Zerin   M       5  2016\n",
       "1891881     Zethan   M       5  2016\n",
       "1891882      Zihao   M       5  2016\n",
       "1891883       Zimo   M       5  2016\n",
       "1891884       Zinn   M       5  2016\n",
       "1891885      Zirui   M       5  2016\n",
       "1891886       Ziya   M       5  2016\n",
       "1891887     Ziyang   M       5  2016\n",
       "1891888       Zoel   M       5  2016\n",
       "1891889     Zolton   M       5  2016\n",
       "1891890     Zurich   M       5  2016\n",
       "1891891     Zyahir   M       5  2016\n",
       "1891892       Zyel   M       5  2016\n",
       "1891893      Zylyn   M       5  2016\n",
       "\n",
       "[1891894 rows x 4 columns]"
      ]
     },
     "execution_count": 45,
     "metadata": {},
     "output_type": "execute_result"
    }
   ],
   "source": [
    "# Import modules\n",
    "import pandas as pd\n",
    "\n",
    "# Read names into a dataframe: bnames\n",
    "bnames=pd.read_csv('datasets/names.csv.gz')\n",
    "bnames"
   ]
  },
  {
   "cell_type": "markdown",
   "metadata": {
    "dc": {
     "key": "0bc85b342d"
    },
    "deletable": false,
    "editable": false,
    "run_control": {
     "frozen": true
    },
    "tags": [
     "context"
    ]
   },
   "source": [
    "## 2. Exploring Trends in Names\n",
    "<p>One of the first things we want to do is to understand naming trends. Let us start by figuring out the top five most popular male and female names for this decade (born 2011 and later). Do you want to make any guesses? Go on, be a sport!!</p>"
   ]
  },
  {
   "cell_type": "code",
   "execution_count": 47,
   "metadata": {
    "dc": {
     "key": "0bc85b342d"
    },
    "tags": [
     "sample_code"
    ]
   },
   "outputs": [
    {
     "data": {
      "text/html": [
       "<div>\n",
       "<table border=\"1\" class=\"dataframe\">\n",
       "  <thead>\n",
       "    <tr style=\"text-align: right;\">\n",
       "      <th></th>\n",
       "      <th>sex</th>\n",
       "      <th>name</th>\n",
       "      <th>births</th>\n",
       "    </tr>\n",
       "  </thead>\n",
       "  <tbody>\n",
       "    <tr>\n",
       "      <th>0</th>\n",
       "      <td>F</td>\n",
       "      <td>Emma</td>\n",
       "      <td>121375</td>\n",
       "    </tr>\n",
       "    <tr>\n",
       "      <th>1</th>\n",
       "      <td>F</td>\n",
       "      <td>Sophia</td>\n",
       "      <td>117352</td>\n",
       "    </tr>\n",
       "    <tr>\n",
       "      <th>2</th>\n",
       "      <td>F</td>\n",
       "      <td>Olivia</td>\n",
       "      <td>111691</td>\n",
       "    </tr>\n",
       "    <tr>\n",
       "      <th>3</th>\n",
       "      <td>F</td>\n",
       "      <td>Isabella</td>\n",
       "      <td>103947</td>\n",
       "    </tr>\n",
       "    <tr>\n",
       "      <th>4</th>\n",
       "      <td>F</td>\n",
       "      <td>Ava</td>\n",
       "      <td>94507</td>\n",
       "    </tr>\n",
       "    <tr>\n",
       "      <th>5</th>\n",
       "      <td>M</td>\n",
       "      <td>Noah</td>\n",
       "      <td>110280</td>\n",
       "    </tr>\n",
       "    <tr>\n",
       "      <th>6</th>\n",
       "      <td>M</td>\n",
       "      <td>Mason</td>\n",
       "      <td>105104</td>\n",
       "    </tr>\n",
       "    <tr>\n",
       "      <th>7</th>\n",
       "      <td>M</td>\n",
       "      <td>Jacob</td>\n",
       "      <td>104722</td>\n",
       "    </tr>\n",
       "    <tr>\n",
       "      <th>8</th>\n",
       "      <td>M</td>\n",
       "      <td>Liam</td>\n",
       "      <td>103250</td>\n",
       "    </tr>\n",
       "    <tr>\n",
       "      <th>9</th>\n",
       "      <td>M</td>\n",
       "      <td>William</td>\n",
       "      <td>99144</td>\n",
       "    </tr>\n",
       "  </tbody>\n",
       "</table>\n",
       "</div>"
      ],
      "text/plain": [
       "  sex      name  births\n",
       "0   F      Emma  121375\n",
       "1   F    Sophia  117352\n",
       "2   F    Olivia  111691\n",
       "3   F  Isabella  103947\n",
       "4   F       Ava   94507\n",
       "5   M      Noah  110280\n",
       "6   M     Mason  105104\n",
       "7   M     Jacob  104722\n",
       "8   M      Liam  103250\n",
       "9   M   William   99144"
      ]
     },
     "execution_count": 47,
     "metadata": {},
     "output_type": "execute_result"
    }
   ],
   "source": [
    "# bnames_top5: A dataframe with top 5 popular male and female names for the decade\n",
    "bnames_2010 = bnames.loc[bnames.year>2010]\n",
    "bnames_2010_agg = bnames_2010.groupby([\"sex\",\"name\"],as_index=False)[\"births\"].sum()\n",
    "bnames_top5 = bnames_2010_agg.sort_values([\"sex\",\"births\"],ascending=[True,False]).groupby(\"sex\").head(5).reset_index(drop=True)\n",
    "bnames_top5\n"
   ]
  },
  {
   "cell_type": "markdown",
   "metadata": {
    "dc": {
     "key": "7cca0a6aff"
    },
    "deletable": false,
    "editable": false,
    "run_control": {
     "frozen": true
    },
    "tags": [
     "context"
    ]
   },
   "source": [
    "## 3. Proportion of Births\n",
    "<p>While the number of births is a useful metric, making comparisons across years becomes difficult, as one would have to control for population effects. One way around this is to normalize the number of births by the total number of births in that year.</p>"
   ]
  },
  {
   "cell_type": "code",
   "execution_count": 49,
   "metadata": {
    "collapsed": true,
    "dc": {
     "key": "7cca0a6aff"
    },
    "tags": [
     "sample_code"
    ]
   },
   "outputs": [],
   "source": [
    "bnames2 = bnames.copy()\n",
    "# Compute the proportion of births by year and add it as a new column\n",
    "x=bnames2.groupby([\"year\"])[\"births\"].transform(sum)\n",
    "bnames2[\"prop_births\"]=bnames2.births/x\n",
    "#bnames2"
   ]
  },
  {
   "cell_type": "markdown",
   "metadata": {
    "dc": {
     "key": "ec03f98f40"
    },
    "deletable": false,
    "editable": false,
    "run_control": {
     "frozen": true
    },
    "tags": [
     "context"
    ]
   },
   "source": [
    "## 4. Popularity of Names\n",
    "<p>Now that we have the proportion of births, let us plot the popularity of a name through the years. How about plotting the popularity of the female names <code>Elizabeth</code>, and <code>Deneen</code>, and inspecting the underlying trends for any interesting patterns!</p>"
   ]
  },
  {
   "cell_type": "code",
   "execution_count": 51,
   "metadata": {
    "dc": {
     "key": "ec03f98f40"
    },
    "tags": [
     "sample_code"
    ]
   },
   "outputs": [
    {
     "data": {
      "image/png": "[encoded data removed]",
      "text/plain": [
       "<matplotlib.figure.Figure at 0x7f6d40672dd8>"
      ]
     },
     "metadata": {},
     "output_type": "display_data"
    },
    {
     "data": {
      "image/png": "[encoded data removed]",
      "text/plain": [
       "<matplotlib.figure.Figure at 0x7f6d406cc208>"
      ]
     },
     "metadata": {},
     "output_type": "display_data"
    }
   ],
   "source": [
    "# Set up matplotlib for plotting in the notebook.\n",
    "%matplotlib inline\n",
    "import matplotlib.pyplot as plt\n",
    "\n",
    "def plot_trends(name, sex):\n",
    "    x=bnames[(bnames.sex==sex) & (bnames.name == name)]\n",
    "    ax=x.plot(x=\"year\",y=\"births\")\n",
    "    ax.set_title(name)\n",
    "    return\n",
    "\n",
    "\n",
    "# Plot trends for Elizabeth and Deneen \n",
    "\n",
    "plot_trends('Elizabeth', 'F')\n",
    "plot_trends('Deneen', 'F')\n",
    "    \n",
    "# How many times did these female names peak?\n",
    "num_peaks_elizabeth = 3\n",
    "num_peaks_deneen    = 1"
   ]
  },
  {
   "cell_type": "markdown",
   "metadata": {
    "dc": {
     "key": "b56a9fcef5"
    },
    "deletable": false,
    "editable": false,
    "run_control": {
     "frozen": true
    },
    "tags": [
     "context"
    ]
   },
   "source": [
    "## 5. Trendy vs. Stable Names\n",
    "<p>Based on the plots we created earlier, we can see that <strong>Elizabeth</strong> is a fairly stable name, while <strong>Deneen</strong> is not. An interesting question to ask would be what are the top 5 stable and top 5 trendiest names. A stable name is one whose proportion across years does not vary drastically, while a trendy name is one whose popularity peaks for a short period and then dies down. </p>\n",
    "<p>There are many ways to measure trendiness. A simple measure would be to look at the maximum proportion of births for a name, normalized by the sume of proportion of births across years. For example, if the name <code>Joe</code> had the proportions <code>0.1, 0.2, 0.1, 0.1</code>, then the trendiness measure would be <code>0.2/(0.1 + 0.2 + 0.1 + 0.1)</code> which equals <code>0.5</code>.</p>\n",
    "<p>Let us use this idea to figure out the top 10 trendy names in this data set, with at least a 1000 births.</p>"
   ]
  },
  {
   "cell_type": "code",
   "execution_count": 53,
   "metadata": {
    "dc": {
     "key": "b56a9fcef5"
    },
    "tags": [
     "sample_code"
    ]
   },
   "outputs": [
    {
     "data": {
      "text/html": [
       "<div>\n",
       "<table border=\"1\" class=\"dataframe\">\n",
       "  <thead>\n",
       "    <tr style=\"text-align: right;\">\n",
       "      <th></th>\n",
       "      <th>name</th>\n",
       "      <th>sex</th>\n",
       "      <th>total</th>\n",
       "      <th>max</th>\n",
       "      <th>trendiness</th>\n",
       "    </tr>\n",
       "  </thead>\n",
       "  <tbody>\n",
       "    <tr>\n",
       "      <th>0</th>\n",
       "      <td>Christop</td>\n",
       "      <td>M</td>\n",
       "      <td>1082</td>\n",
       "      <td>1082</td>\n",
       "      <td>1.000000</td>\n",
       "    </tr>\n",
       "    <tr>\n",
       "      <th>1</th>\n",
       "      <td>Royalty</td>\n",
       "      <td>F</td>\n",
       "      <td>1057</td>\n",
       "      <td>581</td>\n",
       "      <td>0.549669</td>\n",
       "    </tr>\n",
       "    <tr>\n",
       "      <th>2</th>\n",
       "      <td>Kizzy</td>\n",
       "      <td>F</td>\n",
       "      <td>2325</td>\n",
       "      <td>1116</td>\n",
       "      <td>0.480000</td>\n",
       "    </tr>\n",
       "    <tr>\n",
       "      <th>3</th>\n",
       "      <td>Aitana</td>\n",
       "      <td>F</td>\n",
       "      <td>1203</td>\n",
       "      <td>564</td>\n",
       "      <td>0.468828</td>\n",
       "    </tr>\n",
       "    <tr>\n",
       "      <th>4</th>\n",
       "      <td>Deneen</td>\n",
       "      <td>F</td>\n",
       "      <td>3602</td>\n",
       "      <td>1604</td>\n",
       "      <td>0.445308</td>\n",
       "    </tr>\n",
       "    <tr>\n",
       "      <th>5</th>\n",
       "      <td>Moesha</td>\n",
       "      <td>F</td>\n",
       "      <td>1067</td>\n",
       "      <td>426</td>\n",
       "      <td>0.399250</td>\n",
       "    </tr>\n",
       "    <tr>\n",
       "      <th>6</th>\n",
       "      <td>Marely</td>\n",
       "      <td>F</td>\n",
       "      <td>2527</td>\n",
       "      <td>1004</td>\n",
       "      <td>0.397309</td>\n",
       "    </tr>\n",
       "    <tr>\n",
       "      <th>7</th>\n",
       "      <td>Kanye</td>\n",
       "      <td>M</td>\n",
       "      <td>1304</td>\n",
       "      <td>507</td>\n",
       "      <td>0.388804</td>\n",
       "    </tr>\n",
       "    <tr>\n",
       "      <th>8</th>\n",
       "      <td>Tennille</td>\n",
       "      <td>F</td>\n",
       "      <td>2172</td>\n",
       "      <td>769</td>\n",
       "      <td>0.354052</td>\n",
       "    </tr>\n",
       "    <tr>\n",
       "      <th>9</th>\n",
       "      <td>Kadijah</td>\n",
       "      <td>F</td>\n",
       "      <td>1411</td>\n",
       "      <td>486</td>\n",
       "      <td>0.344437</td>\n",
       "    </tr>\n",
       "  </tbody>\n",
       "</table>\n",
       "</div>"
      ],
      "text/plain": [
       "       name sex  total   max  trendiness\n",
       "0  Christop   M   1082  1082    1.000000\n",
       "1   Royalty   F   1057   581    0.549669\n",
       "2     Kizzy   F   2325  1116    0.480000\n",
       "3    Aitana   F   1203   564    0.468828\n",
       "4    Deneen   F   3602  1604    0.445308\n",
       "5    Moesha   F   1067   426    0.399250\n",
       "6    Marely   F   2527  1004    0.397309\n",
       "7     Kanye   M   1304   507    0.388804\n",
       "8  Tennille   F   2172   769    0.354052\n",
       "9   Kadijah   F   1411   486    0.344437"
      ]
     },
     "execution_count": 53,
     "metadata": {},
     "output_type": "execute_result"
    }
   ],
   "source": [
    "# top10_trendy_names | A Data Frame of the top 10 most trendy names\n",
    "names=pd.DataFrame()\n",
    "name_sex_group = bnames.groupby([\"name\",\"sex\"])\n",
    "names[\"total\"]=name_sex_group[\"births\"].sum()\n",
    "names[\"max\"]=name_sex_group[\"births\"].max()\n",
    "names[\"trendiness\"]=names[\"max\"]/names[\"total\"]\n",
    "top10_trendy_names=names.loc[names[\"total\"]>1000].sort_values(\"trendiness\",ascending=False).head(10).reset_index()\n",
    "top10_trendy_names"
   ]
  },
  {
   "cell_type": "markdown",
   "metadata": {
    "dc": {
     "key": "8beea38403"
    },
    "deletable": false,
    "editable": false,
    "run_control": {
     "frozen": true
    },
    "tags": [
     "context"
    ]
   },
   "source": [
    "## 6. Bring in Mortality Data\n",
    "<p>So, what more is in a name? Well, with some further work, it is possible to predict the age of a person based on the name (Whoa! Really????). For this, we will need actuarial data that can tell us the chances that someone is still alive, based on when they were born. Fortunately, the <a href=\"https://www.ssa.gov/\">SSA</a> provides detailed <a href=\"https://www.ssa.gov/oact/STATS/table4c6.html\">actuarial life tables</a> by birth cohorts.</p>\n",
    "<table>\n",
    "<thead>\n",
    "<tr>\n",
    "<th style=\"text-align:right;\">year</th>\n",
    "<th style=\"text-align:right;\">age</th>\n",
    "<th style=\"text-align:right;\">qx</th>\n",
    "<th style=\"text-align:right;\">lx</th>\n",
    "<th style=\"text-align:right;\">dx</th>\n",
    "<th style=\"text-align:right;\">Lx</th>\n",
    "<th style=\"text-align:right;\">Tx</th>\n",
    "<th style=\"text-align:right;\">ex</th>\n",
    "<th style=\"text-align:left;\">sex</th>\n",
    "</tr>\n",
    "</thead>\n",
    "<tbody>\n",
    "<tr>\n",
    "<td style=\"text-align:right;\">1910</td>\n",
    "<td style=\"text-align:right;\">39</td>\n",
    "<td style=\"text-align:right;\">0.00283</td>\n",
    "<td style=\"text-align:right;\">78275</td>\n",
    "<td style=\"text-align:right;\">222</td>\n",
    "<td style=\"text-align:right;\">78164</td>\n",
    "<td style=\"text-align:right;\">3129636</td>\n",
    "<td style=\"text-align:right;\">39.98</td>\n",
    "<td style=\"text-align:left;\">F</td>\n",
    "</tr>\n",
    "<tr>\n",
    "<td style=\"text-align:right;\">1910</td>\n",
    "<td style=\"text-align:right;\">40</td>\n",
    "<td style=\"text-align:right;\">0.00297</td>\n",
    "<td style=\"text-align:right;\">78053</td>\n",
    "<td style=\"text-align:right;\">232</td>\n",
    "<td style=\"text-align:right;\">77937</td>\n",
    "<td style=\"text-align:right;\">3051472</td>\n",
    "<td style=\"text-align:right;\">39.09</td>\n",
    "<td style=\"text-align:left;\">F</td>\n",
    "</tr>\n",
    "<tr>\n",
    "<td style=\"text-align:right;\">1910</td>\n",
    "<td style=\"text-align:right;\">41</td>\n",
    "<td style=\"text-align:right;\">0.00318</td>\n",
    "<td style=\"text-align:right;\">77821</td>\n",
    "<td style=\"text-align:right;\">248</td>\n",
    "<td style=\"text-align:right;\">77697</td>\n",
    "<td style=\"text-align:right;\">2973535</td>\n",
    "<td style=\"text-align:right;\">38.21</td>\n",
    "<td style=\"text-align:left;\">F</td>\n",
    "</tr>\n",
    "<tr>\n",
    "<td style=\"text-align:right;\">1910</td>\n",
    "<td style=\"text-align:right;\">42</td>\n",
    "<td style=\"text-align:right;\">0.00332</td>\n",
    "<td style=\"text-align:right;\">77573</td>\n",
    "<td style=\"text-align:right;\">257</td>\n",
    "<td style=\"text-align:right;\">77444</td>\n",
    "<td style=\"text-align:right;\">2895838</td>\n",
    "<td style=\"text-align:right;\">37.33</td>\n",
    "<td style=\"text-align:left;\">F</td>\n",
    "</tr>\n",
    "<tr>\n",
    "<td style=\"text-align:right;\">1910</td>\n",
    "<td style=\"text-align:right;\">43</td>\n",
    "<td style=\"text-align:right;\">0.00346</td>\n",
    "<td style=\"text-align:right;\">77316</td>\n",
    "<td style=\"text-align:right;\">268</td>\n",
    "<td style=\"text-align:right;\">77182</td>\n",
    "<td style=\"text-align:right;\">2818394</td>\n",
    "<td style=\"text-align:right;\">36.45</td>\n",
    "<td style=\"text-align:left;\">F</td>\n",
    "</tr>\n",
    "<tr>\n",
    "<td style=\"text-align:right;\">1910</td>\n",
    "<td style=\"text-align:right;\">44</td>\n",
    "<td style=\"text-align:right;\">0.00351</td>\n",
    "<td style=\"text-align:right;\">77048</td>\n",
    "<td style=\"text-align:right;\">270</td>\n",
    "<td style=\"text-align:right;\">76913</td>\n",
    "<td style=\"text-align:right;\">2741212</td>\n",
    "<td style=\"text-align:right;\">35.58</td>\n",
    "<td style=\"text-align:left;\">F</td>\n",
    "</tr>\n",
    "</tbody>\n",
    "</table>\n",
    "<p>You can read the <a href=\"https://www.ssa.gov/oact/NOTES/as120/LifeTables_Body.html\">documentation for the lifetables</a> to understand what the different columns mean. The key column of interest to us is <code>lx</code>, which provides the number of people born in a <code>year</code> who live upto a given <code>age</code>. The probability of being alive can be derived as <code>lx</code> by 100,000. </p>\n",
    "<p>Given that 2016 is the latest year in the baby names dataset, we are interested only in a subset of this data, that will help us answer the question, \"What percentage of people born in Year X are still alive in 2016?\" </p>\n",
    "<p>Let us use this data and plot it to get a sense of the mortality distribution!</p>"
   ]
  },
  {
   "cell_type": "code",
   "execution_count": 55,
   "metadata": {
    "dc": {
     "key": "8beea38403"
    },
    "tags": [
     "sample_code"
    ]
   },
   "outputs": [
    {
     "data": {
      "text/plain": [
       "<matplotlib.axes._subplots.AxesSubplot at 0x7f6d3fe6e9b0>"
      ]
     },
     "execution_count": 55,
     "metadata": {},
     "output_type": "execute_result"
    },
    {
     "data": {
      "image/png": "[encoded data removed]",
      "text/plain": [
       "<matplotlib.figure.Figure at 0x7f6d3fe6bf98>"
      ]
     },
     "metadata": {},
     "output_type": "display_data"
    }
   ],
   "source": [
    "# Read lifetables from datasets/lifetables.csv\n",
    "lifetables = pd.read_csv(\"datasets/lifetables.csv\")\n",
    "\n",
    "# Extract subset relevant to those alive in 2016\n",
    "lifetables_2016=lifetables[lifetables.year+lifetables.age==2016]\n",
    "lifetables_2016.head(20)\n",
    "# Plot the mortality distribution: year vs. lx\n",
    "lifetables_2016.plot(x=\"year\",y=\"lx\")\n",
    "#lifetables_2016.shape"
   ]
  },
  {
   "cell_type": "markdown",
   "metadata": {
    "dc": {
     "key": "19e120d2df"
    },
    "deletable": false,
    "editable": false,
    "run_control": {
     "frozen": true
    },
    "tags": [
     "context"
    ]
   },
   "source": [
    "## 7. Smoothen the Curve!\n",
    "<p>We are almost there. There is just one small glitch. The cohort life tables are provided only for every decade. In order to figure out the distribution of people alive, we need the probabilities for every year. One way to fill up the gaps in the data is to use some kind of interpolation. Let us keep things simple and use linear interpolation to fill out the gaps in values of <code>lx</code>, between the years <code>1900</code> and <code>2016</code>.</p>"
   ]
  },
  {
   "cell_type": "code",
   "execution_count": 57,
   "metadata": {
    "collapsed": true,
    "dc": {
     "key": "19e120d2df"
    },
    "tags": [
     "sample_code"
    ]
   },
   "outputs": [],
   "source": [
    "# Create smoothened lifetable_2016_s by interpolating values of lx\n",
    "import numpy as np\n",
    "lifetable_2016_s=lifetables[(lifetables.year >=1900) & (lifetables.year <=2010)]\n",
    "lifetable_2016_s.lx.interpolate()\n",
    "year = np.arange(1900, 2016)\n",
    "mf = {\"M\": pd.DataFrame(), \"F\": pd.DataFrame()}\n",
    "for sex in [\"M\",\"F\"]:\n",
    "    d = lifetables_2016[lifetables_2016.sex == sex][[\"year\",\"lx\"]]\n",
    "    mf[sex] = d.set_index('year').reindex(year).interpolate().reset_index()\n",
    "    mf[sex]['sex'] = sex\n",
    "lifetable_2016_s = pd.concat(mf, ignore_index = True)   \n"
   ]
  },
  {
   "cell_type": "markdown",
   "metadata": {
    "dc": {
     "key": "8edb689558"
    },
    "deletable": false,
    "editable": false,
    "run_control": {
     "frozen": true
    },
    "tags": [
     "context"
    ]
   },
   "source": [
    "## 8. Distribution of People Alive by Name\n",
    "<p>Now that we have all the required data, we need a few helper functions to help us with our analysis. </p>\n",
    "<p>The first function we will write is <code>get_data</code>,which takes <code>name</code> and <code>sex</code> as inputs and returns a data frame with the distribution of number of births and number of people alive by year.</p>\n",
    "<p>The second function is <code>plot_name</code> which accepts the same arguments as <code>get_data</code>, but returns a line plot of the distribution of number of births, overlaid by an area plot of the number alive by year.</p>\n",
    "<p>Using these functions, we will plot the distribution of births for boys named <strong>Joseph</strong> and girls named <strong>Brittany</strong>.</p>"
   ]
  },
  {
   "cell_type": "code",
   "execution_count": 59,
   "metadata": {
    "dc": {
     "key": "8edb689558"
    },
    "tags": [
     "sample_code"
    ]
   },
   "outputs": [
    {
     "data": {
      "image/png": "[encoded data removed]",
      "text/plain": [
       "<matplotlib.figure.Figure at 0x7f6d3fe37cf8>"
      ]
     },
     "metadata": {},
     "output_type": "display_data"
    }
   ],
   "source": [
    "def get_data(name, sex):\n",
    "    # YOUR CODE HERE\n",
    "    w=bnames[(bnames.name==name) & (bnames.sex==sex)]\n",
    "    y= w.merge(lifetable_2016_s,left_on=['year','sex'],right_on=['year','sex'],how='inner')\n",
    "    y[\"n_alive\"]=(y.lx*y.births)/10000\n",
    "    return y\n",
    "    \n",
    "\n",
    "def plot_data(name, sex):\n",
    "    # YOUR CODE HERE\n",
    "    fig, ax = plt.subplots()\n",
    "    df=get_data(name, sex)\n",
    "    df.plot(x='year',y='births',ax=ax,color='black')\n",
    "    df.plot(x=\"year\",y=\"n_alive\",kind='area',ax=ax,color='steelblue',alpha=0.8)\n",
    "    ax.set_xlim(1900, 2016)\n",
    "    return \n",
    "    \n",
    "# Plot the distribution of births and number alive for Joseph and Brittany\n",
    "x=get_data(\"Joseph\",\"M\")\n",
    "plot_data(\"Brittany\",\"F\")\n"
   ]
  },
  {
   "cell_type": "code",
   "execution_count": 60,
   "metadata": {
    "dc": {
     "key": "8edb689558"
    }
   },
   "outputs": [
    {
     "data": {
      "text/html": [
       "<div>\n",
       "<table border=\"1\" class=\"dataframe\">\n",
       "  <thead>\n",
       "    <tr style=\"text-align: right;\">\n",
       "      <th></th>\n",
       "      <th>year</th>\n",
       "      <th>lx</th>\n",
       "      <th>sex</th>\n",
       "    </tr>\n",
       "  </thead>\n",
       "  <tbody>\n",
       "    <tr>\n",
       "      <th>0</th>\n",
       "      <td>1900</td>\n",
       "      <td>0.0</td>\n",
       "      <td>F</td>\n",
       "    </tr>\n",
       "    <tr>\n",
       "      <th>1</th>\n",
       "      <td>1901</td>\n",
       "      <td>6.1</td>\n",
       "      <td>F</td>\n",
       "    </tr>\n",
       "    <tr>\n",
       "      <th>2</th>\n",
       "      <td>1902</td>\n",
       "      <td>12.2</td>\n",
       "      <td>F</td>\n",
       "    </tr>\n",
       "    <tr>\n",
       "      <th>3</th>\n",
       "      <td>1903</td>\n",
       "      <td>18.3</td>\n",
       "      <td>F</td>\n",
       "    </tr>\n",
       "    <tr>\n",
       "      <th>4</th>\n",
       "      <td>1904</td>\n",
       "      <td>24.4</td>\n",
       "      <td>F</td>\n",
       "    </tr>\n",
       "  </tbody>\n",
       "</table>\n",
       "</div>"
      ],
      "text/plain": [
       "   year    lx sex\n",
       "0  1900   0.0   F\n",
       "1  1901   6.1   F\n",
       "2  1902  12.2   F\n",
       "3  1903  18.3   F\n",
       "4  1904  24.4   F"
      ]
     },
     "execution_count": 60,
     "metadata": {},
     "output_type": "execute_result"
    }
   ],
   "source": [
    "bnames.head()\n",
    "lifetable_2016_s.head()"
   ]
  },
  {
   "cell_type": "markdown",
   "metadata": {
    "dc": {
     "key": "76f2d745c2"
    },
    "deletable": false,
    "editable": false,
    "run_control": {
     "frozen": true
    },
    "tags": [
     "context"
    ]
   },
   "source": [
    "## 9. Estimate Age\n",
    "<p>In this section, we want to figure out the probability that a person with a certain name is alive, as well as the quantiles of their age distribution. In particular, we will estimate the age of a female named <strong>Gertrude</strong>. Any guesses on how old a person with this name is? How about a male named <strong>William</strong>?</p>"
   ]
  },
  {
   "cell_type": "code",
   "execution_count": 62,
   "metadata": {
    "dc": {
     "key": "76f2d745c2"
    },
    "tags": [
     "sample_code"
    ]
   },
   "outputs": [
    {
     "data": {
      "text/plain": [
       "name       Gertrude\n",
       "p_alive      187.26\n",
       "q25              91\n",
       "q50              82\n",
       "q75              72\n",
       "sex               F\n",
       "dtype: object"
      ]
     },
     "execution_count": 62,
     "metadata": {},
     "output_type": "execute_result"
    }
   ],
   "source": [
    "# Import modules\n",
    "from wquantiles import quantile\n",
    "from  datetime import datetime\n",
    "\n",
    "# Function to estimate age quantiles\n",
    "def estimate_age(name, sex):\n",
    "    # YOUR CODE HERE\n",
    "    x =get_data(name,sex)\n",
    "    qs = [.25,.5,.75]\n",
    "    quantiles = [datetime.now().year - int(quantile(x.year,x.n_alive,qu)) for qu in qs] \n",
    "    res = dict(zip(['q25','q50','q75'],quantiles))\n",
    "    res['p_alive'] = round(x.n_alive.sum()/x.births.sum()*100, 2)\n",
    "    res['sex'] = sex\n",
    "    res['name'] = name\n",
    "    return pd.Series(res) #x.age.quantile([.25,.5,.75])\n",
    "\n",
    "# Estimate the age of Gertrude\n",
    "estimate_age(\"Gertrude\",\"F\")"
   ]
  },
  {
   "cell_type": "markdown",
   "metadata": {
    "dc": {
     "key": "9f5f6fd409"
    },
    "deletable": false,
    "editable": false,
    "run_control": {
     "frozen": true
    },
    "tags": [
     "context"
    ]
   },
   "source": [
    "## 10. Median Age of Top 10 Female Names\n",
    "<p>In the previous section, we estimated the age of a female named Gertrude. Let's go one step further this time, and compute the 25th, 50th and 75th percentiles of age, and the probability of being alive for the top 10 most common female names of all time. This should give us some interesting insights on how these names stack up in terms of median ages!</p>"
   ]
  },
  {
   "cell_type": "code",
   "execution_count": 64,
   "metadata": {
    "dc": {
     "key": "9f5f6fd409"
    },
    "tags": [
     "sample_code"
    ]
   },
   "outputs": [
    {
     "data": {
      "text/html": [
       "<div>\n",
       "<table border=\"1\" class=\"dataframe\">\n",
       "  <thead>\n",
       "    <tr style=\"text-align: right;\">\n",
       "      <th></th>\n",
       "      <th>name</th>\n",
       "      <th>p_alive</th>\n",
       "      <th>q25</th>\n",
       "      <th>q50</th>\n",
       "      <th>q75</th>\n",
       "      <th>sex</th>\n",
       "    </tr>\n",
       "  </thead>\n",
       "  <tbody>\n",
       "    <tr>\n",
       "      <th>0</th>\n",
       "      <td>Sarah</td>\n",
       "      <td>860.53</td>\n",
       "      <td>40</td>\n",
       "      <td>32</td>\n",
       "      <td>22</td>\n",
       "      <td>F</td>\n",
       "    </tr>\n",
       "    <tr>\n",
       "      <th>1</th>\n",
       "      <td>Elizabeth</td>\n",
       "      <td>744.92</td>\n",
       "      <td>60</td>\n",
       "      <td>40</td>\n",
       "      <td>25</td>\n",
       "      <td>F</td>\n",
       "    </tr>\n",
       "    <tr>\n",
       "      <th>2</th>\n",
       "      <td>Jennifer</td>\n",
       "      <td>963.54</td>\n",
       "      <td>46</td>\n",
       "      <td>40</td>\n",
       "      <td>33</td>\n",
       "      <td>F</td>\n",
       "    </tr>\n",
       "    <tr>\n",
       "      <th>3</th>\n",
       "      <td>Susan</td>\n",
       "      <td>857.99</td>\n",
       "      <td>67</td>\n",
       "      <td>61</td>\n",
       "      <td>54</td>\n",
       "      <td>F</td>\n",
       "    </tr>\n",
       "    <tr>\n",
       "      <th>4</th>\n",
       "      <td>Patricia</td>\n",
       "      <td>767.52</td>\n",
       "      <td>73</td>\n",
       "      <td>65</td>\n",
       "      <td>56</td>\n",
       "      <td>F</td>\n",
       "    </tr>\n",
       "    <tr>\n",
       "      <th>5</th>\n",
       "      <td>Mary</td>\n",
       "      <td>544.08</td>\n",
       "      <td>76</td>\n",
       "      <td>66</td>\n",
       "      <td>55</td>\n",
       "      <td>F</td>\n",
       "    </tr>\n",
       "    <tr>\n",
       "      <th>6</th>\n",
       "      <td>Linda</td>\n",
       "      <td>834.32</td>\n",
       "      <td>71</td>\n",
       "      <td>66</td>\n",
       "      <td>59</td>\n",
       "      <td>F</td>\n",
       "    </tr>\n",
       "    <tr>\n",
       "      <th>7</th>\n",
       "      <td>Margaret</td>\n",
       "      <td>494.68</td>\n",
       "      <td>77</td>\n",
       "      <td>66</td>\n",
       "      <td>53</td>\n",
       "      <td>F</td>\n",
       "    </tr>\n",
       "    <tr>\n",
       "      <th>8</th>\n",
       "      <td>Barbara</td>\n",
       "      <td>706.06</td>\n",
       "      <td>76</td>\n",
       "      <td>68</td>\n",
       "      <td>60</td>\n",
       "      <td>F</td>\n",
       "    </tr>\n",
       "    <tr>\n",
       "      <th>9</th>\n",
       "      <td>Dorothy</td>\n",
       "      <td>358.12</td>\n",
       "      <td>87</td>\n",
       "      <td>77</td>\n",
       "      <td>66</td>\n",
       "      <td>F</td>\n",
       "    </tr>\n",
       "  </tbody>\n",
       "</table>\n",
       "</div>"
      ],
      "text/plain": [
       "        name p_alive q25 q50 q75 sex\n",
       "0      Sarah  860.53  40  32  22   F\n",
       "1  Elizabeth  744.92  60  40  25   F\n",
       "2   Jennifer  963.54  46  40  33   F\n",
       "3      Susan  857.99  67  61  54   F\n",
       "4   Patricia  767.52  73  65  56   F\n",
       "5       Mary  544.08  76  66  55   F\n",
       "6      Linda  834.32  71  66  59   F\n",
       "7   Margaret  494.68  77  66  53   F\n",
       "8    Barbara  706.06  76  68  60   F\n",
       "9    Dorothy  358.12  87  77  66   F"
      ]
     },
     "execution_count": 64,
     "metadata": {},
     "output_type": "execute_result"
    }
   ],
   "source": [
    "# Create median_ages: DataFrame with Top 10 Female names, \n",
    "#    age percentiles and probability of being alive\n",
    "# -- YOUR CODE HERE --\n",
    "\n",
    "\n",
    "bnames_F_Only = bnames[bnames.sex == 'F']\n",
    "bnames_agg = bnames_F_Only.groupby([\"sex\",\"name\"],as_index=False)[\"births\"].sum()\n",
    "bnames_top10 = bnames_agg.sort_values([\"sex\",\"births\"],ascending=[True,False]).groupby(\"sex\").head(10).reset_index(drop=True)\n",
    "estimates = pd.concat([estimate_age(name, 'F') for name in bnames_top10.name], axis = 1)\n",
    "median_ages = estimates.T.sort_values(\"q50\").reset_index(drop = True)\n",
    "median_ages"
   ]
  },
  {
   "cell_type": "code",
   "execution_count": null,
   "metadata": {
    "collapsed": true
   },
   "outputs": [],
   "source": []
  }
 ],
 "metadata": {
  "kernelspec": {
   "display_name": "Python 2",
   "language": "python",
   "name": "python2"
  },
  "language_info": {
   "codemirror_mode": {
    "name": "ipython",
    "version": 2
   },
   "file_extension": ".py",
   "mimetype": "text/x-python",
   "name": "python",
   "nbconvert_exporter": "python",
   "pygments_lexer": "ipython2",
   "version": "2.7.14"
  }
 },
 "nbformat": 4,
 "nbformat_minor": 2
}
